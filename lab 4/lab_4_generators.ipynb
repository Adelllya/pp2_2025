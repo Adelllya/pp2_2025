{
 "cells": [
  {
   "cell_type": "code",
   "execution_count": 9,
   "id": "f69d646d-6357-4ada-b5c3-e0ac90ad3230",
   "metadata": {},
   "outputs": [
    {
     "name": "stdout",
     "output_type": "stream",
     "text": [
      "0\n",
      "1\n",
      "4\n",
      "9\n",
      "16\n",
      "25\n"
     ]
    }
   ],
   "source": [
    "#Task 1\n",
    "def s_o_n(n):\n",
    "    for i in range(n):\n",
    "        print(i ** 2) #or i*i\n",
    "s_o_n(6)"
   ]
  },
  {
   "cell_type": "code",
   "execution_count": 27,
   "id": "6bd871d1-dbca-4bbb-897d-42b46ad6c36a",
   "metadata": {},
   "outputs": [
    {
     "name": "stdin",
     "output_type": "stream",
     "text": [
      "Limit:  6\n"
     ]
    },
    {
     "name": "stdout",
     "output_type": "stream",
     "text": [
      "0, 2, 4, 6\n"
     ]
    }
   ],
   "source": [
    "#Task 2\n",
    "def even(n):\n",
    "    print(*[i for i in range(n+1) if i % 2==0], sep=\", \")\n",
    "\n",
    "n = int(input(\"Limit: \"))\n",
    "even(n)"
   ]
  },
  {
   "cell_type": "code",
   "execution_count": 33,
   "id": "b3424ff6-ca13-4823-b03c-c17984156cd7",
   "metadata": {},
   "outputs": [
    {
     "name": "stdin",
     "output_type": "stream",
     "text": [
      "Limit:  6\n"
     ]
    },
    {
     "name": "stdout",
     "output_type": "stream",
     "text": [
      "0, 3, 4, 6\n"
     ]
    }
   ],
   "source": [
    "#task 3\n",
    "def three_and_4(n):\n",
    "    print(*[i for i in range(n+1) if i % 3== 0 or i%4==0], sep=\", \")\n",
    "\n",
    "n = int(input(\"Limit: \"))\n",
    "three_and_4(n)"
   ]
  },
  {
   "cell_type": "code",
   "execution_count": 35,
   "id": "0f128802-e795-44c1-9913-15ed5cd03906",
   "metadata": {},
   "outputs": [
    {
     "name": "stdin",
     "output_type": "stream",
     "text": [
      "From:  5\n",
      "To:  12\n"
     ]
    },
    {
     "name": "stdout",
     "output_type": "stream",
     "text": [
      "25\n",
      "36\n",
      "49\n",
      "64\n",
      "81\n",
      "100\n",
      "121\n",
      "144\n"
     ]
    }
   ],
   "source": [
    "#Task 4\n",
    "def square(a, b):\n",
    "    for i in range(a, b+1):\n",
    "        print(i**2)\n",
    "a=int(input(\"From: \"))\n",
    "b=int(input(\"To: \"))\n",
    "square(a,b)"
   ]
  },
  {
   "cell_type": "code",
   "execution_count": 37,
   "id": "b6b71579-1604-4712-ad6a-155ec5322e99",
   "metadata": {},
   "outputs": [
    {
     "name": "stdin",
     "output_type": "stream",
     "text": [
      "Value:  6\n"
     ]
    },
    {
     "name": "stdout",
     "output_type": "stream",
     "text": [
      "6\n",
      "5\n",
      "4\n",
      "3\n",
      "2\n",
      "1\n",
      "0\n"
     ]
    }
   ],
   "source": [
    "#Task 5\n",
    "def fromto(n):\n",
    "    for i in range(n, -1, -1):\n",
    "        print(i)\n",
    "n=int(input(\"Value: \"))\n",
    "fromto(n)"
   ]
  },
  {
   "cell_type": "code",
   "execution_count": null,
   "id": "3ddf93dc-65d6-402b-ad59-a346084e91f1",
   "metadata": {},
   "outputs": [],
   "source": []
  }
 ],
 "metadata": {
  "kernelspec": {
   "display_name": "Python [conda env:base] *",
   "language": "python",
   "name": "conda-base-py"
  },
  "language_info": {
   "codemirror_mode": {
    "name": "ipython",
    "version": 3
   },
   "file_extension": ".py",
   "mimetype": "text/x-python",
   "name": "python",
   "nbconvert_exporter": "python",
   "pygments_lexer": "ipython3",
   "version": "3.12.7"
  }
 },
 "nbformat": 4,
 "nbformat_minor": 5
}
