{
 "cells": [
  {
   "cell_type": "code",
   "execution_count": 1,
   "id": "c7413aad-83f2-486e-9532-d45d41d38f4f",
   "metadata": {},
   "outputs": [
    {
     "name": "stdin",
     "output_type": "stream",
     "text": [
      "Input degree:  5\n"
     ]
    },
    {
     "name": "stdout",
     "output_type": "stream",
     "text": [
      "Output radian: 0.087266\n"
     ]
    }
   ],
   "source": [
    "#Task 1\n",
    "import math\n",
    "\n",
    "#radian=degree*pi/180\n",
    "def degree_to_radian(degree):\n",
    "    return degree * (math.pi / 180)\n",
    "\n",
    "degree = float(input(\"Input degree: \"))\n",
    "\n",
    "radian = degree_to_radian(degree)\n",
    "\n",
    "print(f\"Output radian: {radian:.6f}\")"
   ]
  },
  {
   "cell_type": "code",
   "execution_count": 13,
   "id": "94fb4b71-58ba-4714-adc1-34d5c966a7a9",
   "metadata": {},
   "outputs": [
    {
     "name": "stdin",
     "output_type": "stream",
     "text": [
      "Base, first value:  5\n",
      "Base, second value:  6\n",
      "Height:  5\n"
     ]
    },
    {
     "name": "stdout",
     "output_type": "stream",
     "text": [
      "Expected Output: 27.5\n"
     ]
    }
   ],
   "source": [
    "#Task 2\n",
    "def trapezoid_area(a, b, c):\n",
    "    return (a+b)/2*c\n",
    "a=int(input(\"Base, first value: \"))\n",
    "b=int(input(\"Base, second value: \"))\n",
    "c=int(input(\"Height: \"))\n",
    "h=trapezoid_area(a, b, c)\n",
    "print(f\"Expected Output: {h:.3f}\".rstrip('0').rstrip('.'))"
   ]
  },
  {
   "cell_type": "code",
   "execution_count": 21,
   "id": "61fa3a4b-8481-460c-a0bb-2bc93b645711",
   "metadata": {},
   "outputs": [
    {
     "name": "stdin",
     "output_type": "stream",
     "text": [
      "Input number of sides:  4\n",
      "Input the length of a side:  25\n"
     ]
    },
    {
     "name": "stdout",
     "output_type": "stream",
     "text": [
      "The area of the polygon is:  625\n"
     ]
    }
   ],
   "source": [
    "#Task 3\n",
    "def r_poligon(a, h):\n",
    "    return (h*a**2) / (4*math.tan(math.pi / h))\n",
    "h=int(input(\"Input number of sides: \"))\n",
    "a=int(input(\"Input the length of a side: \"))\n",
    "s=r_poligon(a, h)\n",
    "print(\"The area of the polygon is: \", f\"{s:.3f}\".rstrip('0').rstrip('.'))\n",
    "      "
   ]
  },
  {
   "cell_type": "code",
   "execution_count": 33,
   "id": "8c0f749b-3ae6-4a5a-ac68-caff4ceb88eb",
   "metadata": {},
   "outputs": [
    {
     "name": "stdin",
     "output_type": "stream",
     "text": [
      "Length of base:  5\n",
      "Height of parallelogram:  5\n"
     ]
    },
    {
     "name": "stdout",
     "output_type": "stream",
     "text": [
      "Expected Output:  25.0\n"
     ]
    }
   ],
   "source": [
    "#task 4\n",
    "def parall(l, h):\n",
    "    return l*h\n",
    "l=int(input(\"Length of base: \"))\n",
    "h=int(input(\"Height of parallelogram: \"))\n",
    "g=parall(l, h)\n",
    "print(\"Expected Output: \", f\"{g:.1f}\")"
   ]
  },
  {
   "cell_type": "code",
   "execution_count": null,
   "id": "6e87be97-3c03-4cf1-bcfd-8bf1442e26b7",
   "metadata": {},
   "outputs": [],
   "source": []
  }
 ],
 "metadata": {
  "kernelspec": {
   "display_name": "Python [conda env:base] *",
   "language": "python",
   "name": "conda-base-py"
  },
  "language_info": {
   "codemirror_mode": {
    "name": "ipython",
    "version": 3
   },
   "file_extension": ".py",
   "mimetype": "text/x-python",
   "name": "python",
   "nbconvert_exporter": "python",
   "pygments_lexer": "ipython3",
   "version": "3.12.7"
  }
 },
 "nbformat": 4,
 "nbformat_minor": 5
}
