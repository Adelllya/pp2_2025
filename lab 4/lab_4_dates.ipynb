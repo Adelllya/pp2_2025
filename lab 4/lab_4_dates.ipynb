{
 "cells": [
  {
   "cell_type": "code",
   "execution_count": 50,
   "id": "258d56e4-c2aa-4ebb-ba41-f8d79dc9f243",
   "metadata": {},
   "outputs": [
    {
     "name": "stdout",
     "output_type": "stream",
     "text": [
      "2025-02-13\n"
     ]
    }
   ],
   "source": [
    "#Task 1\n",
    "import datetime\n",
    "\n",
    "x = datetime.datetime.now()\n",
    "\n",
    "new_date = (x - datetime.timedelta(days=5)).date()\n",
    "\n",
    "print(new_date)\n"
   ]
  },
  {
   "cell_type": "code",
   "execution_count": 27,
   "id": "0e2a4ba3-2ebc-472e-920f-1a24381d7469",
   "metadata": {},
   "outputs": [
    {
     "name": "stdout",
     "output_type": "stream",
     "text": [
      "2025-02-17\n",
      "2025-02-18\n",
      "2025-02-19\n"
     ]
    }
   ],
   "source": [
    "#Task 2\n",
    "import datetime\n",
    "\n",
    "x = datetime.datetime.now()\n",
    "\n",
    "new_date = (x - datetime.timedelta(days=1)).date()\n",
    "\n",
    "print(new_date)\n",
    "new_date = (x - datetime.timedelta(days=0)).date()\n",
    "\n",
    "print(new_date)\n",
    "new_date = (x + datetime.timedelta(days=1)).date()\n",
    "\n",
    "print(new_date)"
   ]
  },
  {
   "cell_type": "code",
   "execution_count": 46,
   "id": "6df398ef-9e27-4216-9de7-5cac0bda18e0",
   "metadata": {},
   "outputs": [
    {
     "name": "stdout",
     "output_type": "stream",
     "text": [
      "142145\n"
     ]
    }
   ],
   "source": [
    "#Task 3\n",
    "import datetime\n",
    "\n",
    "x = datetime.datetime(2020, 5, 17)\n",
    "\n",
    "print(x)"
   ]
  },
  {
   "cell_type": "code",
   "execution_count": 52,
   "id": "8e88c245-3d57-4b10-8a86-2cffed6c471a",
   "metadata": {},
   "outputs": [
    {
     "name": "stdout",
     "output_type": "stream",
     "text": [
      "Difference in seconds: 95400.0\n"
     ]
    }
   ],
   "source": [
    "#Task 4\n",
    "import datetime\n",
    "\n",
    "def date_difference_in_seconds(date1, date2):\n",
    "    delta = date2 - date1\n",
    "    return delta.total_seconds()\n",
    "\n",
    "# Example usage\n",
    "date1 = datetime.datetime(2025, 2, 18, 12, 0, 0)\n",
    "date2 = datetime.datetime(2025, 2, 19, 14, 30, 0)\n",
    "\n",
    "print(\"Difference in seconds:\", date_difference_in_seconds(date1, date2))\n"
   ]
  },
  {
   "cell_type": "code",
   "execution_count": null,
   "id": "f27eed54-2513-4b3c-97f6-bbd5de4caecd",
   "metadata": {},
   "outputs": [],
   "source": []
  }
 ],
 "metadata": {
  "kernelspec": {
   "display_name": "Python [conda env:base] *",
   "language": "python",
   "name": "conda-base-py"
  },
  "language_info": {
   "codemirror_mode": {
    "name": "ipython",
    "version": 3
   },
   "file_extension": ".py",
   "mimetype": "text/x-python",
   "name": "python",
   "nbconvert_exporter": "python",
   "pygments_lexer": "ipython3",
   "version": "3.12.7"
  }
 },
 "nbformat": 4,
 "nbformat_minor": 5
}
