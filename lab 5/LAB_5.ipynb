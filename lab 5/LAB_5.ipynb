{
 "cells": [
  {
   "cell_type": "code",
   "execution_count": 1,
   "id": "c997059a-4f41-4e7b-aa23-ca022c10a5d9",
   "metadata": {},
   "outputs": [],
   "source": [
    "import re"
   ]
  },
  {
   "cell_type": "code",
   "execution_count": 19,
   "id": "3f305b2c-23ab-4bc2-baa6-4149d26b44d8",
   "metadata": {},
   "outputs": [
    {
     "name": "stdout",
     "output_type": "stream",
     "text": [
      "['abbb', 'a', 'a', 'abb', 'ab', 'a']\n",
      "Yes, there at least one match\n"
     ]
    }
   ],
   "source": [
    "\n",
    "#task 1\n",
    "txt=\"the abbb a0 ad Adel,  abb, ab hallo, wie geit es dir\"\n",
    "def find_all_a_with_0_or_b(txt):\n",
    "    x = re.findall('ab*', txt)\n",
    "    if x:\n",
    "        print(x)\n",
    "        print(\"Yes, there at least one match\")\n",
    "    else:\n",
    "        print(\"No\")\n",
    "find_all_a_with_0_or_b(txt)"
   ]
  },
  {
   "cell_type": "code",
   "execution_count": 21,
   "id": "30486c59-fe0e-46d6-a72a-dbd4ffa05de2",
   "metadata": {},
   "outputs": [
    {
     "name": "stdout",
     "output_type": "stream",
     "text": [
      "['abbb', 'abb']\n",
      "Yes, there at least one match\n"
     ]
    }
   ],
   "source": [
    "#task 2\n",
    "def find_all_a_with_0_or_b1(txt):\n",
    "    x = re.findall('ab{2,3}', txt)\n",
    "    if x:\n",
    "        print(x)\n",
    "        print(\"Yes, there at least one match\")\n",
    "    else:\n",
    "        print(\"No\")\n",
    "find_all_a_with_0_or_b1(txt)"
   ]
  },
  {
   "cell_type": "code",
   "execution_count": 29,
   "id": "a181053a-0b75-4acf-b39e-f84c4158fc8f",
   "metadata": {},
   "outputs": [
    {
     "name": "stdout",
     "output_type": "stream",
     "text": [
      "['a_ffff', 'c_d']\n",
      "Yes, there at least one match\n"
     ]
    }
   ],
   "source": [
    "#task 3\n",
    "def _a_f(txt):\n",
    "    x=re.findall(r'\\b[a-z]+_[a-z]+\\b', txt)\n",
    "    if x:\n",
    "        print(x)\n",
    "        print(\"Yes, there at least one match\")\n",
    "    else:\n",
    "        print(\"No\")\n",
    "\n",
    "txt=\"a_a_b_a a a_ffff c_d c_\"\n",
    "_a_f(txt)"
   ]
  },
  {
   "cell_type": "code",
   "execution_count": 33,
   "id": "b15d3163-5fdc-4322-b932-f1408def3b67",
   "metadata": {},
   "outputs": [
    {
     "name": "stdout",
     "output_type": "stream",
     "text": [
      "['Ad']\n",
      "Yes, there at least one match\n"
     ]
    }
   ],
   "source": [
    "#task 4\n",
    "def A_d(txt):\n",
    "    x = re.findall(r'\\b[A-Z][a-z]+\\b', txt)\n",
    "    if x:\n",
    "        print(x)\n",
    "        print(\"Yes, there at least one match\")\n",
    "    else:\n",
    "        print(\"No\")\n",
    "\n",
    "txt=\"adddd fds Ad\"\n",
    "A_d(txt)"
   ]
  },
  {
   "cell_type": "code",
   "execution_count": 94,
   "id": "dc87b3bb-d5fa-4a9c-95c3-bc884431154f",
   "metadata": {},
   "outputs": [
    {
     "name": "stdout",
     "output_type": "stream",
     "text": [
      "['aaab', 'adfb', 'ab']\n",
      "Yes, there at least one match\n"
     ]
    }
   ],
   "source": [
    "#task 5\n",
    "def No_a_and_end_b(txt):\n",
    "    x = re.findall(r'a.*?b\\b', txt)\n",
    "    if x:\n",
    "        print(x)\n",
    "        print(\"Yes, there at least one match\")\n",
    "    else:\n",
    "        print(\"No\")\n",
    "\n",
    "txt=\"dyr aaab fdadfb frgr fab\"\n",
    "No_a_and_end_b(txt)"
   ]
  },
  {
   "cell_type": "code",
   "execution_count": 118,
   "id": "e2f44f94-4e88-44c9-813f-342ce4229f64",
   "metadata": {},
   "outputs": [
    {
     "name": "stdout",
     "output_type": "stream",
     "text": [
      "The:rain:in:Spain\n",
      "The:rain:in:Spain\n"
     ]
    }
   ],
   "source": [
    "#task 6\n",
    "def replacing(txt):\n",
    "    x = re.sub(r\"\\s\", \":\", txt)\n",
    "    x = re.sub(\",\", \":\", x)\n",
    "    x = re.sub(r\"\\.\", \":\", x)\n",
    "    print(x)\n",
    "txt=\"The rain.in,Spain\"\n",
    "replacing(txt)\n",
    "\n",
    "def replacing1(txt):\n",
    "    print(re.sub(r'[\\s,\\.]', \":\", txt))\n",
    "txt = \"The rain.in,Spain\"\n",
    "replacing1(txt)"
   ]
  },
  {
   "cell_type": "code",
   "execution_count": 128,
   "id": "600cf1a3-d06d-4e27-ad15-6fad5817b099",
   "metadata": {},
   "outputs": [
    {
     "name": "stdout",
     "output_type": "stream",
     "text": [
      "snakeCaseString\n"
     ]
    }
   ],
   "source": [
    "#task 7\n",
    "def snake_to_camel(txt):\n",
    "    components = txt.split('_')\n",
    "    return components[0] + ''.join(x.title() for x in components[1:])\n",
    "print(snake_to_camel('snake_case_string'))"
   ]
  },
  {
   "cell_type": "code",
   "execution_count": 154,
   "id": "233db726-d7ad-4850-b09e-7bad2add84d3",
   "metadata": {},
   "outputs": [
    {
     "name": "stdout",
     "output_type": "stream",
     "text": [
      "['K', 'O', 'D', 'Dew']\n"
     ]
    }
   ],
   "source": [
    "#task 8\n",
    "def split_at_uppercase(txt):\n",
    "    result = re.findall('[A-Z][^A-Z]*', txt)\n",
    "    return result\n",
    "print(split_at_uppercase(\"fewf fcdsKODDew\"))"
   ]
  },
  {
   "cell_type": "code",
   "execution_count": 176,
   "id": "25ac9ff4-75d2-4e77-8950-d0952af01d4d",
   "metadata": {},
   "outputs": [
    {
     "name": "stdout",
     "output_type": "stream",
     "text": [
      "Result string: Split This String At Uppercase Letters\n"
     ]
    }
   ],
   "source": [
    "#task 9\n",
    "def capital_letters(input_string):\n",
    "    res = re.sub(r'([a-z])([A-Z])', r'\\1 \\2', input_string)\n",
    "    return res\n",
    "\n",
    "\n",
    "cnt = \"SplitThisStringAtUppercaseLetters\"\n",
    "\n",
    "print(f\"Result string: {capital_letters(cnt)}\")"
   ]
  },
  {
   "cell_type": "code",
   "execution_count": 204,
   "id": "3dc243e8-2ae0-4439-92ba-634fa94cbc15",
   "metadata": {},
   "outputs": [
    {
     "name": "stdout",
     "output_type": "stream",
     "text": [
      "snake_case_string\n"
     ]
    }
   ],
   "source": [
    "#task 10\n",
    "def capital_letters(input_string):\n",
    "    res = re.sub(r'([a-z])([A-Z])', r'\\1 \\2', input_string)\n",
    "    return res.strip()\n",
    "    \n",
    "def camel_to_snake(txt):\n",
    "    x = capital_letters(txt).split()\n",
    "    return x[0] + '_' + '_'.join(y.lower() for y in x[1:])\n",
    "print(camel_to_snake(\"snakeCaseString\"))"
   ]
  },
  {
   "cell_type": "code",
   "execution_count": null,
   "id": "6aac6c0d-c50f-4d5b-8247-eaa840e20a15",
   "metadata": {},
   "outputs": [],
   "source": []
  }
 ],
 "metadata": {
  "kernelspec": {
   "display_name": "Python [conda env:base] *",
   "language": "python",
   "name": "conda-base-py"
  },
  "language_info": {
   "codemirror_mode": {
    "name": "ipython",
    "version": 3
   },
   "file_extension": ".py",
   "mimetype": "text/x-python",
   "name": "python",
   "nbconvert_exporter": "python",
   "pygments_lexer": "ipython3",
   "version": "3.12.7"
  }
 },
 "nbformat": 4,
 "nbformat_minor": 5
}
