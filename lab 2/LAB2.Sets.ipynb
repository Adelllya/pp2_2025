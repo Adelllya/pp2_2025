{
 "cells": [
  {
   "cell_type": "code",
   "execution_count": null,
   "id": "aa0c5ab5-0d4f-4209-a890-60951eef7aa3",
   "metadata": {},
   "outputs": [],
   "source": []
  }
 ],
 "metadata": {
  "kernelspec": {
   "display_name": "",
   "name": ""
  },
  "language_info": {
   "name": ""
  }
 },
 "nbformat": 4,
 "nbformat_minor": 5
}
