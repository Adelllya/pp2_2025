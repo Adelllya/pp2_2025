{
 "cells": [
  {
   "cell_type": "code",
   "execution_count": null,
   "id": "7415318f-1810-47c6-b4b5-d86f136fce29",
   "metadata": {},
   "outputs": [],
   "source": []
  }
 ],
 "metadata": {
  "kernelspec": {
   "display_name": "",
   "name": ""
  },
  "language_info": {
   "name": ""
  }
 },
 "nbformat": 4,
 "nbformat_minor": 5
}
