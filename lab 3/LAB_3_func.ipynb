{
 "cells": [
  {
   "cell_type": "code",
   "execution_count": 23,
   "id": "05736d75-90bb-43b0-a6a1-a9a9996b77a4",
   "metadata": {},
   "outputs": [],
   "source": [
    "\n",
    "movies = [\n",
    "{\n",
    "\"name\": \"Usual Suspects\", \n",
    "\"imdb\": 7.0,\n",
    "\"category\": \"Thriller\"\n",
    "},\n",
    "{\n",
    "\"name\": \"Hitman\",\n",
    "\"imdb\": 6.3,\n",
    "\"category\": \"Action\"\n",
    "},\n",
    "{\n",
    "\"name\": \"Dark Knight\",\n",
    "\"imdb\": 9.0,\n",
    "\"category\": \"Adventure\"\n",
    "},\n",
    "{\n",
    "\"name\": \"The Help\",\n",
    "\"imdb\": 8.0,\n",
    "\"category\": \"Drama\"\n",
    "},\n",
    "{\n",
    "\"name\": \"The Choice\",\n",
    "\"imdb\": 6.2,\n",
    "\"category\": \"Romance\"\n",
    "},\n",
    "{\n",
    "\"name\": \"Colonia\",\n",
    "\"imdb\": 7.4,\n",
    "\"category\": \"Romance\"\n",
    "},\n",
    "{\n",
    "\"name\": \"Love\",\n",
    "\"imdb\": 6.0,\n",
    "\"category\": \"Romance\"\n",
    "},\n",
    "{\n",
    "\"name\": \"Bride Wars\",\n",
    "\"imdb\": 5.4,\n",
    "\"category\": \"Romance\"\n",
    "},\n",
    "{\n",
    "\"name\": \"AlphaJet\",\n",
    "\"imdb\": 3.2,\n",
    "\"category\": \"War\"\n",
    "},\n",
    "{\n",
    "\"name\": \"Ringing Crime\",\n",
    "\"imdb\": 4.0,\n",
    "\"category\": \"Crime\"\n",
    "},\n",
    "{\n",
    "\"name\": \"Joking muck\",\n",
    "\"imdb\": 7.2,\n",
    "\"category\": \"Comedy\"\n",
    "},\n",
    "{\n",
    "\"name\": \"What is the name\",\n",
    "\"imdb\": 9.2,\n",
    "\"category\": \"Suspense\"\n",
    "},\n",
    "{\n",
    "\"name\": \"Detective\",\n",
    "\"imdb\": 7.0,\n",
    "\"category\": \"Suspense\"\n",
    "},\n",
    "{\n",
    "\"name\": \"Exam\",\n",
    "\"imdb\": 4.2,\n",
    "\"category\": \"Thriller\"\n",
    "},\n",
    "{\n",
    "\"name\": \"We Two\",\n",
    "\"imdb\": 7.2,\n",
    "\"category\": \"Romance\"\n",
    "}\n",
    "]"
   ]
  },
  {
   "cell_type": "code",
   "execution_count": 25,
   "id": "5873cbd9-710d-4d21-ae22-7f4d33c7c3ac",
   "metadata": {},
   "outputs": [
    {
     "name": "stdout",
     "output_type": "stream",
     "text": [
      "True\n",
      "['Usual Suspects', 'Hitman', 'Dark Knight', 'The Help', 'The Choice', 'Colonia', 'Love', 'Joking muck', 'What is the name', 'Detective', 'We Two']\n",
      "['The Choice', 'Colonia', 'Love', 'Bride Wars', 'We Two']\n"
     ]
    }
   ],
   "source": [
    "# task1\n",
    "def score_5_5(movie_name):\n",
    "    for m in movies:\n",
    "        if m['name'] == movie_name:\n",
    "            if m['imdb'] > 5.5:\n",
    "                return True\n",
    "    return False\n",
    "\n",
    "print(score_5_5('Love'))\n",
    "\n",
    "#task2\n",
    "def sublist_5_5():\n",
    "    score_above_5_5 = []\n",
    "    for m in movies:\n",
    "        if m['imdb'] > 5.5:\n",
    "            score_above_5_5.append(m['name'])\n",
    "    return score_above_5_5\n",
    "\n",
    "print(sublist_5_5())\n",
    "\n",
    "#task3\n",
    "def category_list(category):\n",
    "    category_movie = []\n",
    "    for m in movies:\n",
    "        if m['category'] == category:\n",
    "            category_movie.append(m['name'])\n",
    "    return category_movie\n",
    "\n",
    "print(category_list('Romance'))"
   ]
  },
  {
   "cell_type": "code",
   "execution_count": 33,
   "id": "95baf512-9a41-4213-9161-40c47881b571",
   "metadata": {},
   "outputs": [
    {
     "name": "stdout",
     "output_type": "stream",
     "text": [
      "6.49\n"
     ]
    }
   ],
   "source": [
    "#task 4\n",
    "def average_imdb():\n",
    "    score = float(0)\n",
    "    count = 0\n",
    "    for m in movies:\n",
    "        count+=1\n",
    "        score+=m['imdb']\n",
    "    score/=count\n",
    "    return score\n",
    "print(round(average_imdb(), 2))"
   ]
  },
  {
   "cell_type": "code",
   "execution_count": 43,
   "id": "619ff031-7541-4b49-b2bb-678560b1a8ed",
   "metadata": {},
   "outputs": [
    {
     "name": "stdin",
     "output_type": "stream",
     "text": [
      "Please, write a category:  Romance\n"
     ]
    },
    {
     "name": "stdout",
     "output_type": "stream",
     "text": [
      "6.44\n"
     ]
    }
   ],
   "source": [
    "#task 5\n",
    "def average_score_of_imdb_by_category():\n",
    "    score = float(0)\n",
    "    count = 0\n",
    "    for m in movies:\n",
    "        if m['category'] == g:\n",
    "            count+=1\n",
    "            score+=m['imdb']\n",
    "    score/=count\n",
    "    return score\n",
    "g=str(input(\"Please, write a category: \"))\n",
    "print(round(average_score_of_imdb_by_category(), 2))"
   ]
  },
  {
   "cell_type": "code",
   "execution_count": null,
   "id": "42f28f88-9179-406b-a6f7-c46ee5d1a420",
   "metadata": {},
   "outputs": [],
   "source": []
  }
 ],
 "metadata": {
  "kernelspec": {
   "display_name": "Python [conda env:base] *",
   "language": "python",
   "name": "conda-base-py"
  },
  "language_info": {
   "codemirror_mode": {
    "name": "ipython",
    "version": 3
   },
   "file_extension": ".py",
   "mimetype": "text/x-python",
   "name": "python",
   "nbconvert_exporter": "python",
   "pygments_lexer": "ipython3",
   "version": "3.12.7"
  }
 },
 "nbformat": 4,
 "nbformat_minor": 5
}
