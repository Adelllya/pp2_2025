{
 "cells": [
  {
   "cell_type": "code",
   "execution_count": 1,
   "id": "5b4b3bc7-97e2-4276-a916-147836788a8d",
   "metadata": {},
   "outputs": [
    {
     "name": "stdin",
     "output_type": "stream",
     "text": [
      "Введите строку:  dgs\n"
     ]
    },
    {
     "name": "stdout",
     "output_type": "stream",
     "text": [
      "Строка в верхнем регистре: DGS\n"
     ]
    }
   ],
   "source": [
    "#task1\n",
    "class StringInputAndOutput:\n",
    "    def __init__(self):\n",
    "        self.input_string = \"\"\n",
    "\n",
    "    def getString(self):\n",
    "        self.input_string = input(\"Введите строку: \")\n",
    "\n",
    "    def printString(self):\n",
    "        print(\"Строка в верхнем регистре:\", self.input_string.upper())\n",
    "\n",
    "\n",
    "string = StringInputAndOutput()\n",
    "string.getString()\n",
    "string.printString()\n"
   ]
  },
  {
   "cell_type": "code",
   "execution_count": 3,
   "id": "e92af467-d890-4bb4-8777-5fa606ae7617",
   "metadata": {},
   "outputs": [
    {
     "name": "stdout",
     "output_type": "stream",
     "text": [
      "shape: 5\n",
      "square: 16\n"
     ]
    }
   ],
   "source": [
    "\n",
    "#task2\n",
    "class Shape:\n",
    "    def __init__(self, length=0):\n",
    "        self.length = length\n",
    "        \n",
    "    def area(self):\n",
    "        return self.length\n",
    "\n",
    "class Square(Shape):\n",
    "    def __init__(self, length=0):\n",
    "        super().__init__(length)\n",
    "\n",
    "    def area(self):\n",
    "        return self.length * self.length\n",
    "\n",
    "shape = Shape(5)\n",
    "print(\"shape:\", shape.area())\n",
    "\n",
    "square = Square(4)\n",
    "print(\"square:\", square.area())\n",
    "\n",
    "\n"
   ]
  },
  {
   "cell_type": "code",
   "execution_count": 5,
   "id": "ee319861-6924-4086-8b76-0098ddf01954",
   "metadata": {},
   "outputs": [
    {
     "name": "stdout",
     "output_type": "stream",
     "text": [
      "rectangle:  20\n"
     ]
    }
   ],
   "source": [
    "#tack3\n",
    "class Rectangle(Shape):\n",
    "    def __init__(self, length, width):\n",
    "        super().__init__()\n",
    "        self.length = length\n",
    "        self.width = width\n",
    "\n",
    "    def area(self):\n",
    "        return self.width * self.length\n",
    "    \n",
    "rectangl = Rectangle(4, 5)\n",
    "print('rectangle: ', rectangl.area())\n",
    "\n"
   ]
  },
  {
   "cell_type": "code",
   "execution_count": 7,
   "id": "4612cf0f-19d6-47e6-ab81-4dbc65df7a51",
   "metadata": {},
   "outputs": [
    {
     "name": "stdout",
     "output_type": "stream",
     "text": [
      "x=2  y=4\n",
      "x=6  y=8\n",
      "x=3  y=6\n",
      "dist: 3.605551275463989\n"
     ]
    }
   ],
   "source": [
    "#task4\n",
    "import math\n",
    "\n",
    "class Point():\n",
    "    def __init__(self, x, y):\n",
    "        self.x = x\n",
    "        self.y = y\n",
    "\n",
    "    def show(self):\n",
    "        print(f'x={self.x}  y={self.y}')\n",
    "\n",
    "    def move(self, newx, newy):\n",
    "        self.x = newx\n",
    "        self.y = newy\n",
    "\n",
    "    def dist(self, other_point):\n",
    "        return math.sqrt((other_point.x - self.x)**2 + (other_point.y - self.y)**2)\n",
    "    \n",
    "\n",
    "p1 = Point(2, 4)\n",
    "p2 = Point(6, 8)\n",
    "\n",
    "p1.show()\n",
    "p2.show()\n",
    "\n",
    "p1.move(3, 6)\n",
    "p1.show()\n",
    "\n",
    "print(f'dist: {p1.dist(p2)}')\n"
   ]
  },
  {
   "cell_type": "code",
   "execution_count": 9,
   "id": "6faaa1fe-2c7e-4b43-84a8-c035b2383696",
   "metadata": {},
   "outputs": [
    {
     "name": "stdout",
     "output_type": "stream",
     "text": [
      "balance: 1000\n",
      "deposit of 100 successfully made. New balance: 1100\n",
      "balance: 1100\n",
      "insufficient funds!\n",
      "withdrawal of 1000 successfully made. New balance: 100\n"
     ]
    }
   ],
   "source": [
    "#task5\n",
    "class Bank:\n",
    "    def __init__(self, money):\n",
    "        self.balanc = money\n",
    "\n",
    "    def balance(self):\n",
    "        print(f'balance: {self.balanc}')\n",
    "\n",
    "    def deposit(self, dep):\n",
    "        self.balanc += dep\n",
    "        print(f'deposit of {dep} successfully made. New balance: {self.balanc}')\n",
    "\n",
    "    def withdraw(self, wit):\n",
    "        if self.balanc < wit:\n",
    "            print('insufficient funds!')\n",
    "        \n",
    "        else:\n",
    "            self.balanc -= wit\n",
    "            print(f'withdrawal of {wit} successfully made. New balance: {self.balanc}')\n",
    "\n",
    "\n",
    "user = Bank(1000)\n",
    "\n",
    "user.balance()\n",
    "user.deposit(100)\n",
    "user.balance()\n",
    "user.withdraw(1200)\n",
    "user.withdraw(1000)\n"
   ]
  },
  {
   "cell_type": "code",
   "execution_count": 11,
   "id": "ade0a052-3cdb-4ace-bdee-33a9c601976d",
   "metadata": {},
   "outputs": [
    {
     "name": "stdout",
     "output_type": "stream",
     "text": [
      "Prime numbers: [1, 4, 6, 8, 9, 10]\n"
     ]
    }
   ],
   "source": [
    "#task6\n",
    "class PrimeFilter:\n",
    "    def __init__(self, numbers):\n",
    "        self.numbers = numbers\n",
    "\n",
    "    def is_prime(self, n):\n",
    "        if n < 2:\n",
    "            return True\n",
    "        for i in range(2, int(n**0.5) + 1):\n",
    "            if n % i == 0:\n",
    "                return True\n",
    "        return False\n",
    "\n",
    "    def filter_primes(self):\n",
    "        return list(filter(lambda x: self.is_prime(x), self.numbers))\n",
    "\n",
    "\n",
    "numbers = [1, 2, 3, 4, 5, 6, 7, 8, 9, 10]\n",
    "prime_filter = PrimeFilter(numbers)\n",
    "prime_numbers = prime_filter.filter_primes()\n",
    "\n",
    "print(\"Prime numbers:\", prime_numbers)"
   ]
  },
  {
   "cell_type": "code",
   "execution_count": null,
   "id": "bea4dd56-203a-418a-9e94-3f4cbaccbd58",
   "metadata": {},
   "outputs": [],
   "source": []
  }
 ],
 "metadata": {
  "kernelspec": {
   "display_name": "Python [conda env:base] *",
   "language": "python",
   "name": "conda-base-py"
  },
  "language_info": {
   "codemirror_mode": {
    "name": "ipython",
    "version": 3
   },
   "file_extension": ".py",
   "mimetype": "text/x-python",
   "name": "python",
   "nbconvert_exporter": "python",
   "pygments_lexer": "ipython3",
   "version": "3.12.7"
  }
 },
 "nbformat": 4,
 "nbformat_minor": 5
}
